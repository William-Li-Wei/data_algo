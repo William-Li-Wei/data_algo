{
 "cells": [
  {
   "cell_type": "code",
   "execution_count": 25,
   "id": "75cfae05",
   "metadata": {},
   "outputs": [
    {
     "name": "stdout",
     "output_type": "stream",
     "text": [
      "[1, 3, 4, 5, 6, 9, 11]\n",
      "[9, 3, 1, 5, 4, 6, 11]\n",
      "[1, 4, 6, 5, 3, 11, 9]\n"
     ]
    }
   ],
   "source": [
    "# binary search tree with recursion\n",
    "\n",
    "class Node():\n",
    "    def __init__(self, data):\n",
    "        self.data = data\n",
    "        self.left = None\n",
    "        self.right = None\n",
    "        \n",
    "    def insert(self, data):\n",
    "        if data < self.data:\n",
    "            if self.left is None:\n",
    "                self.left = Node(data)\n",
    "            else:\n",
    "                self.left.insert(data)\n",
    "        else:\n",
    "            if self.right is None:\n",
    "                self.right = Node(data)\n",
    "            else:\n",
    "                self.right.insert(data)\n",
    "                \n",
    "    def traverse_inorder(self):\n",
    "        result = []\n",
    "        \n",
    "        if self.left:\n",
    "            result = result + self.left.traverse_inorder()\n",
    "        result.append(self.data)\n",
    "        if self.right:\n",
    "            result = result + self.right.traverse_inorder()\n",
    "        \n",
    "        return result\n",
    "    \n",
    "    def traverse_preorder(self):\n",
    "        result = []\n",
    "        \n",
    "        result.append(self.data)\n",
    "        if self.left:\n",
    "            result = result + self.left.traverse_preorder()\n",
    "        if self.right:\n",
    "            result = result + self.right.traverse_preorder()\n",
    "        \n",
    "        return result\n",
    "    \n",
    "    def traverse_postorder(self):\n",
    "        result = []\n",
    "        \n",
    "        if self.left:\n",
    "            result = result + self.left.traverse_postorder()\n",
    "        if self.right:\n",
    "            result = result + self.right.traverse_postorder()\n",
    "        result.append(self.data)\n",
    "        \n",
    "        return result   \n",
    "        \n",
    "                \n",
    "root = Node(9)\n",
    "root.insert(11)\n",
    "root.insert(3)\n",
    "root.insert(5)\n",
    "root.insert(1)\n",
    "root.insert(4)\n",
    "root.insert(6)\n",
    "\n",
    "print(root.traverse_inorder())\n",
    "print(root.traverse_preorder())\n",
    "print(root.traverse_postorder())"
   ]
  },
  {
   "cell_type": "code",
   "execution_count": 41,
   "id": "f207ee9e",
   "metadata": {},
   "outputs": [
    {
     "name": "stdout",
     "output_type": "stream",
     "text": [
      "[1, 3, 4, 5, 6, 9, 11]\n",
      "[1, 3, 4, 5, 6, 9, 11]\n",
      "[9, 3, 1, 5, 4, 6, 11]\n",
      "[9, 3, 1, 5, 4, 6, 11]\n",
      "[9, 3, 1, 5, 4, 6, 11]\n",
      "[1, 4, 6, 5, 3, 11, 9]\n",
      "[1, 4, 6, 5, 3, 11, 9]\n",
      "[1, 4, 6, 5, 3, 11, 9]\n"
     ]
    }
   ],
   "source": [
    "# binary search tree with recursion\n",
    "\n",
    "def get_stack_top(stack):\n",
    "    if stack:\n",
    "        return stack[-1]\n",
    "    return None\n",
    "\n",
    "\n",
    "class Node():\n",
    "    def __init__(self, data):\n",
    "        self.data = data\n",
    "        self.left = None\n",
    "        self.right = None\n",
    "        \n",
    "    def insert(self, data):\n",
    "        if data < self.data:\n",
    "            if self.left is None:\n",
    "                self.left = Node(data)\n",
    "            else:\n",
    "                self.left.insert(data)\n",
    "        else:\n",
    "            if self.right is None:\n",
    "                self.right = Node(data)\n",
    "            else:\n",
    "                self.right.insert(data)\n",
    "                \n",
    "    def traverse_inorder(self):\n",
    "        result = []\n",
    "        \n",
    "        if self.left:\n",
    "            result = result + self.left.traverse_inorder()\n",
    "        result.append(self.data)\n",
    "        if self.right:\n",
    "            result = result + self.right.traverse_inorder()\n",
    "        \n",
    "        return result\n",
    "    \n",
    "    def traverse_inorder_stack(self):\n",
    "        result = []\n",
    "        stack = []\n",
    "        current = self\n",
    "        \n",
    "        while True:\n",
    "            if current is not None:\n",
    "                stack.append(current)\n",
    "                current = current.left\n",
    "            elif len(stack) > 0:\n",
    "                current = stack.pop()\n",
    "                result.append(current.data)\n",
    "                current = current.right\n",
    "            else:\n",
    "                break\n",
    "        return result\n",
    "    \n",
    "    def traverse_preorder(self):\n",
    "        result = []\n",
    "        \n",
    "        result.append(self.data)\n",
    "        if self.left:\n",
    "            result = result + self.left.traverse_preorder()\n",
    "        if self.right:\n",
    "            result = result + self.right.traverse_preorder()\n",
    "        \n",
    "        return result\n",
    "    \n",
    "    def traverse_preorder_stack(self):\n",
    "        result = []\n",
    "        stack = []\n",
    "        stack.append(self)\n",
    "        \n",
    "        while len(stack) > 0:\n",
    "            current = stack.pop()\n",
    "            result.append(current.data)\n",
    "            \n",
    "            if current.right:\n",
    "                stack.append(current.right)\n",
    "            if current.left:\n",
    "                stack.append(current.left)\n",
    "        return result\n",
    "    \n",
    "    def traverse_preorder_stack_improved(self):\n",
    "        result = []\n",
    "        stack = []\n",
    "        current = self\n",
    "        \n",
    "        while True:\n",
    "            if current is not None:\n",
    "                result.append(current.data)\n",
    "                if current.right:\n",
    "                    stack.append(current.right)\n",
    "                current = current.left\n",
    "            elif len(stack) > 0:\n",
    "                current = stack.pop()\n",
    "            else:\n",
    "                break\n",
    "        return result\n",
    "    \n",
    "    def traverse_postorder(self):\n",
    "        result = []\n",
    "        \n",
    "        if self.left:\n",
    "            result = result + self.left.traverse_postorder()\n",
    "        if self.right:\n",
    "            result = result + self.right.traverse_postorder()\n",
    "        result.append(self.data)\n",
    "        \n",
    "        return result\n",
    "    \n",
    "    def traverse_postorder_2stack(self):\n",
    "        result = []\n",
    "        stack1 = []\n",
    "        stack2 = []\n",
    "        \n",
    "        stack1.append(self)\n",
    "        \n",
    "        while len(stack1) > 0:\n",
    "            current = stack1.pop()\n",
    "            stack2.append(current)\n",
    "            if current.left:\n",
    "                stack1.append(current.left)\n",
    "            if current.right:\n",
    "                stack1.append(current.right)\n",
    "        while len(stack2) > 0:\n",
    "            result.append(stack2.pop().data)\n",
    "        \n",
    "        return result\n",
    "    \n",
    "    def traverse_postorder_1stack(self):\n",
    "        result = []\n",
    "        stack = []\n",
    "        current = self\n",
    "        \n",
    "        while True:\n",
    "            if current is not None:                                   \n",
    "                if current.right:\n",
    "                    stack.append(current.right)\n",
    "                stack.append(current) \n",
    "                current = current.left\n",
    "            else:\n",
    "                current = stack.pop()\n",
    "                if current.right and current.right == get_stack_top(stack):\n",
    "                    stack.pop()\n",
    "                    stack.append(current)\n",
    "                    current = current.right\n",
    "                else:\n",
    "                    result.append(current.data)\n",
    "                    current = None\n",
    "                    \n",
    "                if len(stack) == 0:\n",
    "                    break\n",
    "        return result\n",
    "        \n",
    "        \n",
    "                \n",
    "root = Node(9)\n",
    "root.insert(11)\n",
    "root.insert(3)\n",
    "root.insert(5)\n",
    "root.insert(1)\n",
    "root.insert(4)\n",
    "root.insert(6)\n",
    "\n",
    "print(root.traverse_inorder())\n",
    "print(root.traverse_inorder_stack())\n",
    "print(root.traverse_preorder())\n",
    "print(root.traverse_preorder_stack())\n",
    "print(root.traverse_preorder_stack_improved())\n",
    "print(root.traverse_postorder())\n",
    "print(root.traverse_postorder_2stack())\n",
    "print(root.traverse_postorder_1stack())"
   ]
  },
  {
   "cell_type": "code",
   "execution_count": 43,
   "id": "f9e593ae",
   "metadata": {},
   "outputs": [
    {
     "data": {
      "text/plain": [
       "[1, 3, 5]"
      ]
     },
     "execution_count": 43,
     "metadata": {},
     "output_type": "execute_result"
    }
   ],
   "source": [
    "a = [3, 1, 5]\n",
    "a.sort()\n",
    "a"
   ]
  },
  {
   "cell_type": "code",
   "execution_count": 44,
   "id": "468597e4",
   "metadata": {},
   "outputs": [
    {
     "ename": "TypeError",
     "evalue": "can only concatenate str (not \"int\") to str",
     "output_type": "error",
     "traceback": [
      "\u001b[0;31m---------------------------------------------------------------------------\u001b[0m",
      "\u001b[0;31mTypeError\u001b[0m                                 Traceback (most recent call last)",
      "Input \u001b[0;32mIn [44]\u001b[0m, in \u001b[0;36m<cell line: 1>\u001b[0;34m()\u001b[0m\n\u001b[0;32m----> 1\u001b[0m \u001b[38;5;124;43m\"\u001b[39;49m\u001b[38;5;124;43m\"\u001b[39;49m\u001b[43m \u001b[49m\u001b[38;5;241;43m+\u001b[39;49m\u001b[43m \u001b[49m\u001b[38;5;241;43m1\u001b[39;49m\n",
      "\u001b[0;31mTypeError\u001b[0m: can only concatenate str (not \"int\") to str"
     ]
    }
   ],
   "source": [
    "\"\" + 1"
   ]
  },
  {
   "cell_type": "code",
   "execution_count": 45,
   "id": "65dd5d25",
   "metadata": {},
   "outputs": [
    {
     "data": {
      "text/plain": [
       "'cba'"
      ]
     },
     "execution_count": 45,
     "metadata": {},
     "output_type": "execute_result"
    }
   ],
   "source": [
    "\"abc\"[::-1]"
   ]
  },
  {
   "cell_type": "code",
   "execution_count": 46,
   "id": "72440f09",
   "metadata": {},
   "outputs": [],
   "source": [
    "from collections import deque\n",
    "\n",
    "a = deque()"
   ]
  },
  {
   "cell_type": "code",
   "execution_count": 48,
   "id": "399e0aeb",
   "metadata": {},
   "outputs": [],
   "source": [
    "a.append(1)"
   ]
  },
  {
   "cell_type": "code",
   "execution_count": 49,
   "id": "a7813a13",
   "metadata": {},
   "outputs": [
    {
     "data": {
      "text/plain": [
       "deque([1])"
      ]
     },
     "execution_count": 49,
     "metadata": {},
     "output_type": "execute_result"
    }
   ],
   "source": [
    "a"
   ]
  },
  {
   "cell_type": "code",
   "execution_count": 53,
   "id": "8670273a",
   "metadata": {},
   "outputs": [
    {
     "data": {
      "text/plain": [
       "False"
      ]
     },
     "execution_count": 53,
     "metadata": {},
     "output_type": "execute_result"
    }
   ],
   "source": [
    "2 in a"
   ]
  },
  {
   "cell_type": "code",
   "execution_count": 56,
   "id": "bbe3185e",
   "metadata": {},
   "outputs": [
    {
     "data": {
      "text/plain": [
       "1"
      ]
     },
     "execution_count": 56,
     "metadata": {},
     "output_type": "execute_result"
    }
   ],
   "source": [
    "len(a)"
   ]
  },
  {
   "cell_type": "code",
   "execution_count": 57,
   "id": "740bdf4b",
   "metadata": {},
   "outputs": [
    {
     "data": {
      "text/plain": [
       "0"
      ]
     },
     "execution_count": 57,
     "metadata": {},
     "output_type": "execute_result"
    }
   ],
   "source": [
    "a = [1, 2]\n",
    "a.index(1)"
   ]
  },
  {
   "cell_type": "code",
   "execution_count": 61,
   "id": "9322198f",
   "metadata": {},
   "outputs": [
    {
     "data": {
      "text/plain": [
       "-1"
      ]
     },
     "execution_count": 61,
     "metadata": {},
     "output_type": "execute_result"
    }
   ],
   "source": [
    "\"abc\".find(\"x\")"
   ]
  },
  {
   "cell_type": "code",
   "execution_count": 66,
   "id": "89f6a2d2",
   "metadata": {},
   "outputs": [
    {
     "data": {
      "text/plain": [
       "{1: 'a'}"
      ]
     },
     "execution_count": 66,
     "metadata": {},
     "output_type": "execute_result"
    }
   ],
   "source": [
    "a = {1: \"a\"}\n",
    "a"
   ]
  },
  {
   "cell_type": "code",
   "execution_count": 67,
   "id": "0614a216",
   "metadata": {},
   "outputs": [
    {
     "data": {
      "text/plain": [
       "'a'"
      ]
     },
     "execution_count": 67,
     "metadata": {},
     "output_type": "execute_result"
    }
   ],
   "source": [
    "a.get(1)"
   ]
  },
  {
   "cell_type": "code",
   "execution_count": 64,
   "id": "52caf956",
   "metadata": {},
   "outputs": [],
   "source": [
    "del a[1]"
   ]
  },
  {
   "cell_type": "code",
   "execution_count": 69,
   "id": "5c9f9718",
   "metadata": {},
   "outputs": [
    {
     "data": {
      "text/plain": [
       "{1: 'a'}"
      ]
     },
     "execution_count": 69,
     "metadata": {},
     "output_type": "execute_result"
    }
   ],
   "source": [
    "a"
   ]
  },
  {
   "cell_type": "code",
   "execution_count": 70,
   "id": "e5b4c855",
   "metadata": {},
   "outputs": [
    {
     "data": {
      "text/plain": [
       "1"
      ]
     },
     "execution_count": 70,
     "metadata": {},
     "output_type": "execute_result"
    }
   ],
   "source": [
    "len(a)"
   ]
  },
  {
   "cell_type": "code",
   "execution_count": 73,
   "id": "63059b06",
   "metadata": {},
   "outputs": [],
   "source": [
    "a = [1, 2, 3]\n",
    "a.insert(0, 4)"
   ]
  },
  {
   "cell_type": "code",
   "execution_count": 74,
   "id": "daa557e8",
   "metadata": {},
   "outputs": [
    {
     "data": {
      "text/plain": [
       "[4, 1, 2, 3]"
      ]
     },
     "execution_count": 74,
     "metadata": {},
     "output_type": "execute_result"
    }
   ],
   "source": [
    "a"
   ]
  },
  {
   "cell_type": "code",
   "execution_count": 78,
   "id": "6130e8ab",
   "metadata": {},
   "outputs": [],
   "source": [
    "a = deque()\n",
    "def addone(q):\n",
    "    q.append(1)\n",
    "    \n",
    "addone(a)\n",
    "addone(a)"
   ]
  },
  {
   "cell_type": "code",
   "execution_count": 79,
   "id": "0119aecf",
   "metadata": {},
   "outputs": [
    {
     "data": {
      "text/plain": [
       "deque([1, 1])"
      ]
     },
     "execution_count": 79,
     "metadata": {},
     "output_type": "execute_result"
    }
   ],
   "source": [
    "a"
   ]
  },
  {
   "cell_type": "code",
   "execution_count": 82,
   "id": "961c7e04",
   "metadata": {},
   "outputs": [
    {
     "data": {
      "text/plain": [
       "True"
      ]
     },
     "execution_count": 82,
     "metadata": {},
     "output_type": "execute_result"
    }
   ],
   "source": [
    "True and True or False"
   ]
  },
  {
   "cell_type": "code",
   "execution_count": 84,
   "id": "da694d7e",
   "metadata": {},
   "outputs": [
    {
     "data": {
      "text/plain": [
       "False"
      ]
     },
     "execution_count": 84,
     "metadata": {},
     "output_type": "execute_result"
    }
   ],
   "source": []
  },
  {
   "cell_type": "code",
   "execution_count": 86,
   "id": "1baec5f1",
   "metadata": {},
   "outputs": [
    {
     "data": {
      "text/plain": [
       "''"
      ]
     },
     "execution_count": 86,
     "metadata": {},
     "output_type": "execute_result"
    }
   ],
   "source": [
    "\"1\"[0:0]"
   ]
  },
  {
   "cell_type": "code",
   "execution_count": 89,
   "id": "7346abf1",
   "metadata": {},
   "outputs": [
    {
     "data": {
      "text/plain": [
       "'ab'"
      ]
     },
     "execution_count": 89,
     "metadata": {},
     "output_type": "execute_result"
    }
   ],
   "source": [
    "\"abc\".replace(\"c\", \"\")"
   ]
  },
  {
   "cell_type": "code",
   "execution_count": 90,
   "id": "a6992c56",
   "metadata": {},
   "outputs": [
    {
     "data": {
      "text/plain": [
       "'ab'"
      ]
     },
     "execution_count": 90,
     "metadata": {},
     "output_type": "execute_result"
    }
   ],
   "source": [
    "\"abc\"[0: -1]"
   ]
  },
  {
   "cell_type": "code",
   "execution_count": 94,
   "id": "b7bd8f62",
   "metadata": {},
   "outputs": [
    {
     "data": {
      "text/plain": [
       "'1'"
      ]
     },
     "execution_count": 94,
     "metadata": {},
     "output_type": "execute_result"
    }
   ],
   "source": [
    "\"01\"[1:]"
   ]
  },
  {
   "cell_type": "code",
   "execution_count": 95,
   "id": "29d4e7bb",
   "metadata": {},
   "outputs": [],
   "source": [
    "for i in \"\":\n",
    "    print(\"a\")"
   ]
  },
  {
   "cell_type": "code",
   "execution_count": 96,
   "id": "7915e75e",
   "metadata": {},
   "outputs": [
    {
     "data": {
      "text/plain": [
       "'a'"
      ]
     },
     "execution_count": 96,
     "metadata": {},
     "output_type": "execute_result"
    }
   ],
   "source": [
    "\"abc\"[0: -2]"
   ]
  },
  {
   "cell_type": "code",
   "execution_count": null,
   "id": "6ddb9e3e",
   "metadata": {},
   "outputs": [],
   "source": []
  }
 ],
 "metadata": {
  "kernelspec": {
   "display_name": "Python 3 (ipykernel)",
   "language": "python",
   "name": "python3"
  },
  "language_info": {
   "codemirror_mode": {
    "name": "ipython",
    "version": 3
   },
   "file_extension": ".py",
   "mimetype": "text/x-python",
   "name": "python",
   "nbconvert_exporter": "python",
   "pygments_lexer": "ipython3",
   "version": "3.9.2"
  }
 },
 "nbformat": 4,
 "nbformat_minor": 5
}
