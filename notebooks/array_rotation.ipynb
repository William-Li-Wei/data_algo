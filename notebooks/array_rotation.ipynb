{
 "cells": [
  {
   "cell_type": "markdown",
   "id": "e1336f1e",
   "metadata": {},
   "source": [
    "https://www.geeksforgeeks.org/array-rotation/\n",
    "\n",
    "put first **d** elements from an **n** elements array, to the end.\n",
    "\n",
    "input: \n",
    "array = [1, 2, 3, 4, 5, 6, 7], n = 7, d = 3\n",
    "\n",
    "output: [4, 5, 6, 7, 1, 2, 3]\n"
   ]
  },
  {
   "cell_type": "code",
   "execution_count": 8,
   "id": "c3c3812e",
   "metadata": {},
   "outputs": [
    {
     "name": "stdout",
     "output_type": "stream",
     "text": [
      "[4, 5, 6, 7, 1, 2, 3]\n"
     ]
    }
   ],
   "source": [
    "# Solution 1: make copy of 2 parts and put them together again\n",
    "# time complexity: O(n)\n",
    "# auxiliary space: O(d)\n",
    "\n",
    "def rotate(arr, n, d):\n",
    "    temp = []\n",
    "    for i in range(n):\n",
    "        if i < d:\n",
    "            temp.append(arr[i])\n",
    "        else:\n",
    "            arr[i - d] = arr[i]\n",
    "        i = i + 1\n",
    "    for i in range(d):\n",
    "        arr[n - d + i] = temp[i]\n",
    "    return arr\n",
    "\n",
    "arr = [1, 2, 3, 4, 5, 6, 7]\n",
    "n = 7\n",
    "d = 3\n",
    "\n",
    "output = rotate(arr, n, d)\n",
    "print(output)"
   ]
  },
  {
   "cell_type": "code",
   "execution_count": 9,
   "id": "da36885f",
   "metadata": {},
   "outputs": [
    {
     "name": "stdout",
     "output_type": "stream",
     "text": [
      "[4, 5, 6, 7, 1, 2, 3]\n"
     ]
    }
   ],
   "source": [
    "# Solution 2: move each element to one place left and repaet d times\n",
    "# time complexity: O(n * d)\n",
    "# auxiliary space: O(1)\n",
    "\n",
    "def rotate(arr, n, d):\n",
    "    for i in range(d):\n",
    "        temp = arr[0]\n",
    "        for j in range(1, n):\n",
    "            arr[j - 1] = arr[j]\n",
    "        arr[n - 1] = temp\n",
    "    return arr\n",
    "\n",
    "arr = [1, 2, 3, 4, 5, 6, 7]\n",
    "n = 7\n",
    "d = 3\n",
    "\n",
    "output = rotate(arr, n, d)\n",
    "print(output)"
   ]
  },
  {
   "cell_type": "markdown",
   "id": "eb7b0202",
   "metadata": {},
   "source": [
    "In solution 2: each element was moved d times\n",
    "\n",
    "However, we know how much each element should be shifted, don't have to move one by one."
   ]
  },
  {
   "cell_type": "code",
   "execution_count": 11,
   "id": "32c121d4",
   "metadata": {},
   "outputs": [
    {
     "data": {
      "text/plain": [
       "2"
      ]
     },
     "execution_count": 11,
     "metadata": {},
     "output_type": "execute_result"
    }
   ],
   "source": []
  },
  {
   "cell_type": "code",
   "execution_count": null,
   "id": "864d68ac",
   "metadata": {},
   "outputs": [],
   "source": []
  }
 ],
 "metadata": {
  "kernelspec": {
   "display_name": "Python 3 (ipykernel)",
   "language": "python",
   "name": "python3"
  },
  "language_info": {
   "codemirror_mode": {
    "name": "ipython",
    "version": 3
   },
   "file_extension": ".py",
   "mimetype": "text/x-python",
   "name": "python",
   "nbconvert_exporter": "python",
   "pygments_lexer": "ipython3",
   "version": "3.9.2"
  }
 },
 "nbformat": 4,
 "nbformat_minor": 5
}
