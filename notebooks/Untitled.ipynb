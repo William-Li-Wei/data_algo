{
 "cells": [
  {
   "cell_type": "code",
   "execution_count": 8,
   "id": "d56815dd",
   "metadata": {},
   "outputs": [],
   "source": [
    "from queue import PriorityQueue"
   ]
  },
  {
   "cell_type": "code",
   "execution_count": 9,
   "id": "534b85b4",
   "metadata": {},
   "outputs": [],
   "source": [
    "q = PriorityQueue()\n",
    "\n",
    "q.put((-5, \"cat\"))\n",
    "q.put((-3, \"dog\"))\n",
    "q.put((-2, \"human\"))"
   ]
  },
  {
   "cell_type": "code",
   "execution_count": 10,
   "id": "fa22b8b5",
   "metadata": {},
   "outputs": [
    {
     "data": {
      "text/plain": [
       "(-5, 'cat')"
      ]
     },
     "execution_count": 10,
     "metadata": {},
     "output_type": "execute_result"
    }
   ],
   "source": [
    "q.get()"
   ]
  },
  {
   "cell_type": "code",
   "execution_count": 13,
   "id": "b256d087",
   "metadata": {},
   "outputs": [],
   "source": [
    "text = [\"cat\"] * 5 + [\"dog\"] * 3 + [\"bird\"] * 2"
   ]
  },
  {
   "cell_type": "code",
   "execution_count": 28,
   "id": "a2655c9a",
   "metadata": {},
   "outputs": [],
   "source": [
    "counts = {}\n",
    "\n",
    "for element in text:\n",
    "    if counts.get(element) is None:\n",
    "        counts[element] = 0\n",
    "    counts[element] = counts[element] - 1"
   ]
  },
  {
   "cell_type": "code",
   "execution_count": 29,
   "id": "96e2018c",
   "metadata": {},
   "outputs": [],
   "source": [
    "q = PriorityQueue()\n",
    "\n",
    "for k, v in counts.items():\n",
    "    q.put((v, k))"
   ]
  },
  {
   "cell_type": "code",
   "execution_count": 30,
   "id": "78f73c6f",
   "metadata": {},
   "outputs": [],
   "source": [
    "results = []\n",
    "\n",
    "for i in range(2):\n",
    "    results.append(q.get()[1])"
   ]
  },
  {
   "cell_type": "code",
   "execution_count": 31,
   "id": "3bcec28f",
   "metadata": {},
   "outputs": [
    {
     "data": {
      "text/plain": [
       "['cat', 'dog']"
      ]
     },
     "execution_count": 31,
     "metadata": {},
     "output_type": "execute_result"
    }
   ],
   "source": [
    "results"
   ]
  },
  {
   "cell_type": "code",
   "execution_count": null,
   "id": "17cf7967",
   "metadata": {},
   "outputs": [],
   "source": []
  }
 ],
 "metadata": {
  "kernelspec": {
   "display_name": "Python 3 (ipykernel)",
   "language": "python",
   "name": "python3"
  },
  "language_info": {
   "codemirror_mode": {
    "name": "ipython",
    "version": 3
   },
   "file_extension": ".py",
   "mimetype": "text/x-python",
   "name": "python",
   "nbconvert_exporter": "python",
   "pygments_lexer": "ipython3",
   "version": "3.9.2"
  }
 },
 "nbformat": 4,
 "nbformat_minor": 5
}
