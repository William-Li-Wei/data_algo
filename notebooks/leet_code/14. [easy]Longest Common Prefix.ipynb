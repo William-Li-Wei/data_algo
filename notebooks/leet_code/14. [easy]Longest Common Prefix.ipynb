{
 "cells": [
  {
   "cell_type": "markdown",
   "id": "60e13309",
   "metadata": {},
   "source": [
    "Write a function to find the longest common prefix string amongst an array of strings.\n",
    "\n",
    "If there is no common prefix, return an empty string \"\".\n",
    "\n",
    "- Input: strs = [\"flower\",\"flow\",\"flight\"]\n",
    "- Output: \"fl\"\n",
    "\n",
    "\n",
    "- Input: strs = [\"dog\",\"racecar\",\"car\"]\n",
    "- Output: \"\"\n",
    "- Explanation: There is no common prefix among the input strings.\n",
    "\n",
    "\n",
    "constrains\n",
    "- 1 <= strs.length <= 200\n",
    "- 0 <= strs[i].length <= 200\n",
    "- strs[i] consists of only lower-case English letters."
   ]
  },
  {
   "cell_type": "code",
   "execution_count": 2,
   "id": "42733d56",
   "metadata": {},
   "outputs": [],
   "source": [
    "from typing import List\n",
    "\n",
    "class Solution:\n",
    "    def longestCommonPrefix(self, strs: List[str]) -> str:\n",
    "        \"\"\"\n",
    "            find the shortest word, len -> N\n",
    "            put first N substring of all strings to a set\n",
    "            if set has more than 1 element, shorten N            \n",
    "            \n",
    "        \"\"\"\n",
    "        result = \"\"        \n",
    "        temp_set = None\n",
    "        len_shortest = min([len(s) for s in strs])        \n",
    "        idx = len_shortest - 1\n",
    "        \n",
    "        while idx >= 0:\n",
    "            temp_set = set()           \n",
    "            for s in strs:\n",
    "                temp_set.add(s[: idx + 1])\n",
    "                if len(temp_set) > 1:\n",
    "                    break\n",
    "                    \n",
    "            if len(temp_set) == 1:\n",
    "                result = list(temp_set)[0]\n",
    "                break\n",
    "                \n",
    "            idx = idx - 1\n",
    "            \n",
    "        return result"
   ]
  },
  {
   "cell_type": "code",
   "execution_count": 3,
   "id": "69bc443c",
   "metadata": {},
   "outputs": [
    {
     "name": "stdout",
     "output_type": "stream",
     "text": [
      "fl\n"
     ]
    }
   ],
   "source": [
    "strs = [\"flower\",\"flow\",\"flight\"]\n",
    "solution = Solution()\n",
    "result = solution.longestCommonPrefix(strs)\n",
    "\n",
    "print(result)"
   ]
  },
  {
   "cell_type": "code",
   "execution_count": null,
   "id": "a544735a",
   "metadata": {},
   "outputs": [],
   "source": []
  }
 ],
 "metadata": {
  "kernelspec": {
   "display_name": "Python 3 (ipykernel)",
   "language": "python",
   "name": "python3"
  },
  "language_info": {
   "codemirror_mode": {
    "name": "ipython",
    "version": 3
   },
   "file_extension": ".py",
   "mimetype": "text/x-python",
   "name": "python",
   "nbconvert_exporter": "python",
   "pygments_lexer": "ipython3",
   "version": "3.9.2"
  }
 },
 "nbformat": 4,
 "nbformat_minor": 5
}
