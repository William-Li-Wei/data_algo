{
 "cells": [
  {
   "cell_type": "markdown",
   "id": "aa8a99f7",
   "metadata": {},
   "source": [
    "You are given an integer array height of length n. There are n vertical lines drawn such that the two endpoints of the ith line are (i, 0) and (i, height[i]).\n",
    "\n",
    "Find two lines that together with the x-axis form a container, such that the container contains the most water.\n",
    "\n",
    "Return the maximum amount of water a container can store.\n",
    "\n",
    "- Input: height = [1,8,6,2,5,4,8,3,7]\n",
    "- Output: 49\n",
    "- Explanation: The above vertical lines are represented by array [1,8,6,2,5,4,8,3,7]. In this case, the max area of water (blue section) the container can contain is 49.\n",
    "\n",
    "\n",
    "- Input: height = [1,1]\n",
    "- Output: 1"
   ]
  },
  {
   "cell_type": "code",
   "execution_count": 1,
   "id": "b769d153",
   "metadata": {},
   "outputs": [],
   "source": [
    "from typing import List\n",
    "\n",
    "class Solution:\n",
    "    def maxArea(self, height: List[int]) -> int:\n",
    "        \"\"\"\n",
    "            2 pointers indicating left and right, compare which bar is lower\n",
    "            move the pointer to the lower bar to the middle\n",
    "        \"\"\"\n",
    "        max_water = 0\n",
    "        idx_l = 0\n",
    "        idx_r = len(height) - 1\n",
    "        \n",
    "        while idx_l < idx_r:\n",
    "            hl = height[idx_l]\n",
    "            hr = height[idx_r]\n",
    "            \n",
    "            max_water = max(max_water, (idx_r - idx_l) * min(hl, hr))\n",
    "        \n",
    "            if hl < hr:\n",
    "                idx_l = idx_l + 1\n",
    "            else:\n",
    "                idx_r = idx_r - 1\n",
    "            \n",
    "        return max_water"
   ]
  },
  {
   "cell_type": "code",
   "execution_count": 2,
   "id": "5ccf7746",
   "metadata": {},
   "outputs": [
    {
     "name": "stdout",
     "output_type": "stream",
     "text": [
      "49\n"
     ]
    }
   ],
   "source": [
    "data_in = [1,8,6,2,5,4,8,3,7]\n",
    "solution = Solution()\n",
    "result = solution.maxArea(data_in)\n",
    "print(result)"
   ]
  }
 ],
 "metadata": {
  "kernelspec": {
   "display_name": "Python 3 (ipykernel)",
   "language": "python",
   "name": "python3"
  },
  "language_info": {
   "codemirror_mode": {
    "name": "ipython",
    "version": 3
   },
   "file_extension": ".py",
   "mimetype": "text/x-python",
   "name": "python",
   "nbconvert_exporter": "python",
   "pygments_lexer": "ipython3",
   "version": "3.9.2"
  }
 },
 "nbformat": 4,
 "nbformat_minor": 5
}
