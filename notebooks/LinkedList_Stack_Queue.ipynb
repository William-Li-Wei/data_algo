{
 "cells": [
  {
   "cell_type": "code",
   "execution_count": 1,
   "id": "02651eaf",
   "metadata": {},
   "outputs": [],
   "source": [
    "from collections import deque\n"
   ]
  },
  {
   "cell_type": "markdown",
   "id": "2e3dabe1",
   "metadata": {},
   "source": [
    "### Compare list and LinkedList (deque)\n",
    "\n",
    "- list:\n",
    "    - access by index: O(1)\n",
    "    - insert, delete: O(n)\n",
    "- linked_list(deque):\n",
    "    - cannot access by index: O(n)\n",
    "    - insert, append, delete, pop: O(1)"
   ]
  },
  {
   "cell_type": "markdown",
   "id": "bf906577",
   "metadata": {},
   "source": [
    "# LinkedList via deque"
   ]
  },
  {
   "cell_type": "code",
   "execution_count": 2,
   "id": "fc2957df",
   "metadata": {},
   "outputs": [
    {
     "name": "stdout",
     "output_type": "stream",
     "text": [
      "init with abcde -> deque(['a', 'b', 'c', 'd', 'e'])\n",
      "append f -> deque(['a', 'b', 'c', 'd', 'e', 'f'])\n",
      "pop -> deque(['a', 'b', 'c', 'd', 'e'])\n",
      "appendleft g -> deque(['g', 'a', 'b', 'c', 'd', 'e'])\n",
      "popleft -> deque(['a', 'b', 'c', 'd', 'e'])\n",
      "insert h at idx 2 -> deque(['a', 'b', 'h', 'c', 'd', 'e'])\n"
     ]
    }
   ],
   "source": [
    "llist = deque('abcde')\n",
    "print(\"init with abcde ->\", llist)\n",
    "\n",
    "llist.append('f')\n",
    "print(\"append f ->\", llist)\n",
    "\n",
    "llist.pop()\n",
    "print(\"pop ->\", llist)\n",
    "\n",
    "llist.appendleft(\"g\")\n",
    "print(\"appendleft g ->\", llist)\n",
    "\n",
    "llist.popleft()\n",
    "print(\"popleft ->\", llist)\n",
    "\n",
    "llist.insert(2, 'h')\n",
    "print(\"insert h at idx 2 ->\", llist)\n"
   ]
  },
  {
   "cell_type": "markdown",
   "id": "673138a1",
   "metadata": {},
   "source": [
    "# Stack via deque"
   ]
  },
  {
   "cell_type": "code",
   "execution_count": 3,
   "id": "e8c6646a",
   "metadata": {},
   "outputs": [
    {
     "name": "stdout",
     "output_type": "stream",
     "text": [
      "init with abcde -> deque(['a', 'b', 'c', 'd', 'e'])\n",
      "append f -> deque(['a', 'b', 'c', 'd', 'e', 'f'])\n",
      "pop -> deque(['a', 'b', 'c', 'd', 'e'])\n"
     ]
    }
   ],
   "source": [
    "stack = deque('abcde')\n",
    "print(\"init with abcde ->\", stack)\n",
    "\n",
    "stack.append('f')\n",
    "print(\"append f ->\", stack)\n",
    "\n",
    "stack.pop()\n",
    "print(\"pop ->\", stack)"
   ]
  },
  {
   "cell_type": "markdown",
   "id": "79bf14f9",
   "metadata": {},
   "source": [
    "# Queue via deque"
   ]
  },
  {
   "cell_type": "code",
   "execution_count": 4,
   "id": "3766a683",
   "metadata": {},
   "outputs": [
    {
     "name": "stdout",
     "output_type": "stream",
     "text": [
      "init with abcde -> deque(['a', 'b', 'c', 'd', 'e'])\n",
      "append f -> deque(['a', 'b', 'c', 'd', 'e', 'f'])\n",
      "popleft -> deque(['b', 'c', 'd', 'e', 'f'])\n"
     ]
    }
   ],
   "source": [
    "queue = deque('abcde')\n",
    "print(\"init with abcde ->\", queue)\n",
    "\n",
    "queue.append('f')\n",
    "print(\"append f ->\", queue)\n",
    "\n",
    "queue.popleft()\n",
    "print(\"popleft ->\", queue)"
   ]
  },
  {
   "cell_type": "code",
   "execution_count": null,
   "id": "616e31a3",
   "metadata": {},
   "outputs": [],
   "source": []
  },
  {
   "cell_type": "markdown",
   "id": "eb7a04ad",
   "metadata": {},
   "source": [
    "# Self implemented LinkedList"
   ]
  },
  {
   "cell_type": "code",
   "execution_count": 5,
   "id": "6cc884c7",
   "metadata": {},
   "outputs": [],
   "source": [
    "class Node():\n",
    "    def __init__(self, data):\n",
    "        self.data = data\n",
    "        self.next = None\n",
    "        \n",
    "    def __repr__(self):\n",
    "        return self.data\n",
    "\n",
    "\n",
    "class LinkedList():\n",
    "    def __init__(self, nodes=None):\n",
    "        self.head = None\n",
    "        if nodes is not None:\n",
    "            for idx, element in enumerate(nodes):\n",
    "                if idx == 0:\n",
    "                    node = Node(data=element)\n",
    "                    self.head = node\n",
    "                else:\n",
    "                    node.next = Node(data=element)\n",
    "                    node = node.next\n",
    "        \n",
    "    def append(self, node: Node):\n",
    "        if self.head is None:\n",
    "            self.head = node    \n",
    "        else:\n",
    "            # find last node\n",
    "            current = self.head\n",
    "            while current.next:\n",
    "                current = current.next\n",
    "                \n",
    "            # put node after the last node\n",
    "            current.next = node\n",
    "            \n",
    "    def append_left(self, node: Node):\n",
    "        node.next = self.head\n",
    "        self.head = node\n",
    "        \n",
    "    def insert_at(self, index: int, node: Node):\n",
    "        current = self.head\n",
    "        prev = self.head\n",
    "        \n",
    "        # move current to index element\n",
    "        # move prev to index - 1 element\n",
    "        for i in range(index):\n",
    "            if current.next is not None:\n",
    "                current = current.next\n",
    "                if i < index - 1:\n",
    "                    prev = current\n",
    "            else:\n",
    "                raise Exception(f\"index {index} out of range.\")\n",
    "            \n",
    "        # prev -> node -> current\n",
    "        if prev is None:\n",
    "            # empty list\n",
    "            self.head = node\n",
    "        elif prev == current:\n",
    "            # prev = current = head\n",
    "            node.next = current\n",
    "            self.head = node\n",
    "        else:\n",
    "            # prev -> current\n",
    "            prev.next = node\n",
    "            node.next = current\n",
    "        \n",
    "            \n",
    "    def pop(self):\n",
    "        # find 2nd last\n",
    "        current = self.head\n",
    "        while current.next and current.next.next:\n",
    "            current = current.next\n",
    "        \n",
    "        # let 2nd last point to None, then become the last\n",
    "        last = current.next\n",
    "        current.next = None\n",
    "        return last\n",
    "    \n",
    "    def pop_left(self):\n",
    "        first = self.head\n",
    "        self.head = self.head.next\n",
    "        return first\n",
    "            \n",
    "    def __repr__(self):\n",
    "        node = self.head\n",
    "        nodes = []\n",
    "        while node is not None:\n",
    "            nodes.append(node.data)\n",
    "            node = node.next\n",
    "        nodes.append(\"None\")\n",
    "        return \", \".join(nodes)"
   ]
  },
  {
   "cell_type": "markdown",
   "id": "f42126c1",
   "metadata": {},
   "source": [
    "## LinkedList"
   ]
  },
  {
   "cell_type": "code",
   "execution_count": 6,
   "id": "74c4a72d",
   "metadata": {},
   "outputs": [
    {
     "name": "stdout",
     "output_type": "stream",
     "text": [
      "init with abcde -> a, b, c, d, e, None\n",
      "append f -> a, b, c, d, e, f, None\n",
      "pop -> a, b, c, d, e, None\n",
      "append_left g -> g, a, b, c, d, e, None\n",
      "pop_left -> a, b, c, d, e, None\n",
      "insert h at idx 2 -> a, b, h, c, d, e, None\n"
     ]
    }
   ],
   "source": [
    "llist = LinkedList('abcde')\n",
    "print(\"init with abcde ->\", llist)\n",
    "\n",
    "llist.append(Node('f'))\n",
    "print(\"append f ->\", llist)\n",
    "\n",
    "llist.pop()\n",
    "print(\"pop ->\", llist)\n",
    "\n",
    "llist.append_left(Node('g'))\n",
    "print(\"append_left g ->\", llist)\n",
    "\n",
    "llist.pop_left()\n",
    "print(\"pop_left ->\", llist)\n",
    "\n",
    "llist.insert_at(2, Node('h'))\n",
    "print(\"insert h at idx 2 ->\", llist)\n"
   ]
  },
  {
   "cell_type": "markdown",
   "id": "9366bd5a",
   "metadata": {},
   "source": [
    "## Stack via self implemented LinkedList"
   ]
  },
  {
   "cell_type": "code",
   "execution_count": 7,
   "id": "4b0696e3",
   "metadata": {},
   "outputs": [
    {
     "name": "stdout",
     "output_type": "stream",
     "text": [
      "init with abcde -> a, b, c, d, e, None\n",
      "append f -> a, b, c, d, e, f, None\n",
      "pop -> a, b, c, d, e, None\n"
     ]
    }
   ],
   "source": [
    "stack = LinkedList('abcde')\n",
    "print(\"init with abcde ->\", stack)\n",
    "\n",
    "stack.append(Node('f'))\n",
    "print(\"append f ->\", stack)\n",
    "\n",
    "stack.pop()\n",
    "print(\"pop ->\", stack)"
   ]
  },
  {
   "cell_type": "markdown",
   "id": "d603d694",
   "metadata": {},
   "source": [
    "## Queue via self implemented LinkedList"
   ]
  },
  {
   "cell_type": "code",
   "execution_count": 8,
   "id": "beeccd4c",
   "metadata": {},
   "outputs": [
    {
     "name": "stdout",
     "output_type": "stream",
     "text": [
      "init with abcde -> a, b, c, d, e, None\n",
      "append f -> a, b, c, d, e, f, None\n",
      "popleft -> b, c, d, e, f, None\n"
     ]
    }
   ],
   "source": [
    "queue = LinkedList('abcde')\n",
    "print(\"init with abcde ->\", queue)\n",
    "\n",
    "queue.append(Node('f'))\n",
    "print(\"append f ->\", queue)\n",
    "\n",
    "queue.pop_left()\n",
    "print(\"popleft ->\", queue)"
   ]
  },
  {
   "cell_type": "code",
   "execution_count": null,
   "id": "e55f4ea2",
   "metadata": {},
   "outputs": [],
   "source": []
  }
 ],
 "metadata": {
  "kernelspec": {
   "display_name": "Python 3 (ipykernel)",
   "language": "python",
   "name": "python3"
  },
  "language_info": {
   "codemirror_mode": {
    "name": "ipython",
    "version": 3
   },
   "file_extension": ".py",
   "mimetype": "text/x-python",
   "name": "python",
   "nbconvert_exporter": "python",
   "pygments_lexer": "ipython3",
   "version": "3.9.2"
  }
 },
 "nbformat": 4,
 "nbformat_minor": 5
}
